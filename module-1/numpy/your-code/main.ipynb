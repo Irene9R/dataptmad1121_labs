{
 "cells": [
  {
   "cell_type": "markdown",
   "metadata": {},
   "source": [
    "# Introduction to NumPy\n",
    "\n",
    "\n",
    "#### 1. Import NumPy under the name np."
   ]
  },
  {
   "cell_type": "code",
   "execution_count": 1,
   "metadata": {},
   "outputs": [],
   "source": [
    "#your code here\n",
    "import numpy as np\n"
   ]
  },
  {
   "cell_type": "markdown",
   "metadata": {},
   "source": [
    "#### 2. Print your NumPy version."
   ]
  },
  {
   "cell_type": "code",
   "execution_count": 2,
   "metadata": {},
   "outputs": [
    {
     "name": "stdout",
     "output_type": "stream",
     "text": [
      "1.21.2\n"
     ]
    }
   ],
   "source": [
    "#your code here\n",
    "print(np.__version__)\n"
   ]
  },
  {
   "cell_type": "markdown",
   "metadata": {},
   "source": [
    "#### 3. Generate a 2x3x5 3-dimensional array with random values. Assign the array to variable *a*.\n",
    "**Challenge**: there are at least three easy ways that use numpy to generate random arrays. How many ways can you find?"
   ]
  },
  {
   "cell_type": "code",
   "execution_count": 3,
   "metadata": {},
   "outputs": [
    {
     "name": "stdout",
     "output_type": "stream",
     "text": [
      "print a with method 1:\n",
      "\n",
      " [[[0.59618351 0.35974153 0.13372083 0.44610441 0.72666858]\n",
      "  [0.3100121  0.39278694 0.09494036 0.93244742 0.55045195]\n",
      "  [0.75842489 0.81853919 0.36111903 0.08834256 0.85080305]]\n",
      "\n",
      " [[0.79507328 0.24295486 0.01406228 0.5317246  0.12592669]\n",
      "  [0.8663842  0.71848899 0.27081539 0.75544182 0.08085881]\n",
      "  [0.5695428  0.9279654  0.23993457 0.76573692 0.78562125]]]\n",
      "\n",
      "\n"
     ]
    }
   ],
   "source": [
    "#your code here\n",
    "\n",
    "#Method 1\n",
    "a = np.random.random((2,3,5))\n",
    "print (\"print a with method 1:\\n\\n\",a)\n",
    "print (\"\\n\")\n"
   ]
  },
  {
   "cell_type": "code",
   "execution_count": 4,
   "metadata": {},
   "outputs": [
    {
     "name": "stdout",
     "output_type": "stream",
     "text": [
      "print a with method 2:\n",
      "\n",
      " [[[97 92 14 57 97]\n",
      "  [17 77 83 77 80]\n",
      "  [31 31 23 51 42]]\n",
      "\n",
      " [[55  9 99 89 95]\n",
      "  [31 73 25 77 85]\n",
      "  [48  7 10 66 17]]]\n",
      "\n",
      "\n"
     ]
    }
   ],
   "source": [
    "#your code here\n",
    "\n",
    "# Method 2\n",
    "a1 = np.random.randint(0,100,(2,3,5))\n",
    "print (\"print a with method 2:\\n\\n\",a1)\n",
    "print (\"\\n\")\n"
   ]
  },
  {
   "cell_type": "code",
   "execution_count": 5,
   "metadata": {},
   "outputs": [
    {
     "name": "stdout",
     "output_type": "stream",
     "text": [
      "print a with method 3:\n",
      "\n",
      " [[[-0.42063892  0.06822912  0.31144554 -0.78172444  0.92410407]\n",
      "  [-1.22648832  0.07103621 -1.29531907 -0.50084482  0.31652145]\n",
      "  [-0.05175892  0.19427725 -0.28782231 -0.7855493  -0.31182202]]\n",
      "\n",
      " [[-0.34596475 -0.11977247 -1.45786686  0.39021269  0.14139125]\n",
      "  [-1.65697184  0.17060937  1.44784435  0.12711308  1.08699358]\n",
      "  [-0.05932101 -1.14734884 -0.80666679  0.52294765  0.1522837 ]]]\n",
      "\n",
      "\n"
     ]
    }
   ],
   "source": [
    "#your code here\n",
    "\n",
    "# Method 3\n",
    "a2 = np.random.randn(2,3,5)\n",
    "print (\"print a with method 3:\\n\\n\",a2)\n",
    "print (\"\\n\")\n"
   ]
  },
  {
   "cell_type": "markdown",
   "metadata": {},
   "source": [
    "#### 4. Print *a*.\n"
   ]
  },
  {
   "cell_type": "code",
   "execution_count": 6,
   "metadata": {},
   "outputs": [
    {
     "name": "stdout",
     "output_type": "stream",
     "text": [
      "print a:\n",
      "\n",
      " [[[0.59618351 0.35974153 0.13372083 0.44610441 0.72666858]\n",
      "  [0.3100121  0.39278694 0.09494036 0.93244742 0.55045195]\n",
      "  [0.75842489 0.81853919 0.36111903 0.08834256 0.85080305]]\n",
      "\n",
      " [[0.79507328 0.24295486 0.01406228 0.5317246  0.12592669]\n",
      "  [0.8663842  0.71848899 0.27081539 0.75544182 0.08085881]\n",
      "  [0.5695428  0.9279654  0.23993457 0.76573692 0.78562125]]]\n",
      "\n",
      "\n"
     ]
    }
   ],
   "source": [
    "#your code here\n",
    "# I will use the array a generated in method 1 \n",
    "print (\"print a:\\n\\n\",a)\n",
    "print (\"\\n\")\n"
   ]
  },
  {
   "cell_type": "markdown",
   "metadata": {},
   "source": [
    "#### 5. Create a 5x2x3 3-dimensional array with all values equaling 1. Assign the array to variable *b*."
   ]
  },
  {
   "cell_type": "code",
   "execution_count": 7,
   "metadata": {},
   "outputs": [],
   "source": [
    "#your code here\n",
    "b = np.ones((5,2,3))\n"
   ]
  },
  {
   "cell_type": "markdown",
   "metadata": {},
   "source": [
    "#### 6. Print *b*.\n"
   ]
  },
  {
   "cell_type": "code",
   "execution_count": 8,
   "metadata": {},
   "outputs": [
    {
     "name": "stdout",
     "output_type": "stream",
     "text": [
      "b:\n",
      "\n",
      " [[[1. 1. 1.]\n",
      "  [1. 1. 1.]]\n",
      "\n",
      " [[1. 1. 1.]\n",
      "  [1. 1. 1.]]\n",
      "\n",
      " [[1. 1. 1.]\n",
      "  [1. 1. 1.]]\n",
      "\n",
      " [[1. 1. 1.]\n",
      "  [1. 1. 1.]]\n",
      "\n",
      " [[1. 1. 1.]\n",
      "  [1. 1. 1.]]]\n"
     ]
    }
   ],
   "source": [
    "#your code here\n",
    "print(\"b:\\n\\n\",b)\n"
   ]
  },
  {
   "cell_type": "markdown",
   "metadata": {},
   "source": [
    "#### 7. Do *a* and *b* have the same size? How do you prove that in Python code?"
   ]
  },
  {
   "cell_type": "code",
   "execution_count": 9,
   "metadata": {},
   "outputs": [
    {
     "name": "stdout",
     "output_type": "stream",
     "text": [
      "30\n",
      "30\n",
      "¿Are a and b the same size?: True \n",
      "The total number of elements in both of them is: 30\n"
     ]
    }
   ],
   "source": [
    "#your code here\n",
    "\n",
    "print (a.size)\n",
    "print (b.size)\n",
    "if a.size == b.size:\n",
    "    print (\"¿Are a and b the same size?:\",True,\"\\nThe total number of elements in both of them is:\",a.size)\n",
    "else: \n",
    "    print (False)\n",
    "    "
   ]
  },
  {
   "cell_type": "markdown",
   "metadata": {},
   "source": [
    "#### 8. Are you able to add *a* and *b*? Why or why not?\n"
   ]
  },
  {
   "cell_type": "code",
   "execution_count": 10,
   "metadata": {},
   "outputs": [],
   "source": [
    "#your answer here\n",
    "# 3sumab = a+b\n",
    "# It cannot be added since a and b have different shapes and it wouldnt make mathematical sense to add them. \n"
   ]
  },
  {
   "cell_type": "markdown",
   "metadata": {},
   "source": [
    "#### 9. Transpose *b* so that it has the same structure of *a* (i.e. become a 2x3x5 array). Assign the transposed array to variable *c*."
   ]
  },
  {
   "cell_type": "code",
   "execution_count": 11,
   "metadata": {},
   "outputs": [
    {
     "name": "stdout",
     "output_type": "stream",
     "text": [
      "c:\n",
      "\n",
      " [[[1. 1. 1. 1. 1.]\n",
      "  [1. 1. 1. 1. 1.]\n",
      "  [1. 1. 1. 1. 1.]]\n",
      "\n",
      " [[1. 1. 1. 1. 1.]\n",
      "  [1. 1. 1. 1. 1.]\n",
      "  [1. 1. 1. 1. 1.]]]\n"
     ]
    }
   ],
   "source": [
    "#your code here\n",
    "c = b.transpose(1,2,0)\n",
    "print (\"c:\\n\\n\",c)\n"
   ]
  },
  {
   "cell_type": "markdown",
   "metadata": {},
   "source": [
    "#### 10. Try to add *a* and *c*. Now it should work. Assign the sum to variable *d*. But why does it work now?"
   ]
  },
  {
   "cell_type": "code",
   "execution_count": 12,
   "metadata": {},
   "outputs": [],
   "source": [
    "#Your code here\n",
    "\n",
    "#Method1\n",
    "#d = a+c\n",
    "#print (d)\n",
    "\n",
    "#Method2\n",
    "d = np.add(a, c)\n",
    "\n",
    "#it works now because C and A have the same shape. \n"
   ]
  },
  {
   "cell_type": "markdown",
   "metadata": {},
   "source": [
    "#### 11. Print *a* and *d*. Notice the difference and relation of the two array in terms of the values? Explain."
   ]
  },
  {
   "cell_type": "code",
   "execution_count": 13,
   "metadata": {},
   "outputs": [
    {
     "name": "stdout",
     "output_type": "stream",
     "text": [
      "Matrix a=\n",
      "\n",
      " [[[0.59618351 0.35974153 0.13372083 0.44610441 0.72666858]\n",
      "  [0.3100121  0.39278694 0.09494036 0.93244742 0.55045195]\n",
      "  [0.75842489 0.81853919 0.36111903 0.08834256 0.85080305]]\n",
      "\n",
      " [[0.79507328 0.24295486 0.01406228 0.5317246  0.12592669]\n",
      "  [0.8663842  0.71848899 0.27081539 0.75544182 0.08085881]\n",
      "  [0.5695428  0.9279654  0.23993457 0.76573692 0.78562125]]]\n",
      "\n",
      "\n",
      "Matrix d=\n",
      "\n",
      " [[[1.59618351 1.35974153 1.13372083 1.44610441 1.72666858]\n",
      "  [1.3100121  1.39278694 1.09494036 1.93244742 1.55045195]\n",
      "  [1.75842489 1.81853919 1.36111903 1.08834256 1.85080305]]\n",
      "\n",
      " [[1.79507328 1.24295486 1.01406228 1.5317246  1.12592669]\n",
      "  [1.8663842  1.71848899 1.27081539 1.75544182 1.08085881]\n",
      "  [1.5695428  1.9279654  1.23993457 1.76573692 1.78562125]]]\n",
      "\n",
      "\n"
     ]
    }
   ],
   "source": [
    "#your code here\n",
    "print (\"Matrix a=\\n\\n\",a)\n",
    "print (\"\\n\")\n",
    "print (\"Matrix d=\\n\\n\",d)\n",
    "print (\"\\n\")\n",
    "\n",
    "#They have the same shape and size, but all the values of \"d\" are greater than the values of \"a\" by 1.\n"
   ]
  },
  {
   "cell_type": "markdown",
   "metadata": {},
   "source": [
    "#### 12. Multiply *a* and *c*. Assign the result to *e*."
   ]
  },
  {
   "cell_type": "code",
   "execution_count": 14,
   "metadata": {},
   "outputs": [],
   "source": [
    "#your code here\n",
    "\n",
    "#Method 1\n",
    "#e = a * c\n",
    "#print (e)\n",
    "\n",
    "#or\n",
    "\n",
    "#Method 2\n",
    "e = np.multiply(a, c)\n"
   ]
  },
  {
   "cell_type": "markdown",
   "metadata": {},
   "source": [
    "#### 13. Does *e* equal to *a*? Why or why not?\n"
   ]
  },
  {
   "cell_type": "code",
   "execution_count": 15,
   "metadata": {},
   "outputs": [
    {
     "name": "stdout",
     "output_type": "stream",
     "text": [
      "print a:\n",
      "\n",
      " [[[0.59618351 0.35974153 0.13372083 0.44610441 0.72666858]\n",
      "  [0.3100121  0.39278694 0.09494036 0.93244742 0.55045195]\n",
      "  [0.75842489 0.81853919 0.36111903 0.08834256 0.85080305]]\n",
      "\n",
      " [[0.79507328 0.24295486 0.01406228 0.5317246  0.12592669]\n",
      "  [0.8663842  0.71848899 0.27081539 0.75544182 0.08085881]\n",
      "  [0.5695428  0.9279654  0.23993457 0.76573692 0.78562125]]] \n",
      "\n",
      "print e:\n",
      "\n",
      " [[[0.59618351 0.35974153 0.13372083 0.44610441 0.72666858]\n",
      "  [0.3100121  0.39278694 0.09494036 0.93244742 0.55045195]\n",
      "  [0.75842489 0.81853919 0.36111903 0.08834256 0.85080305]]\n",
      "\n",
      " [[0.79507328 0.24295486 0.01406228 0.5317246  0.12592669]\n",
      "  [0.8663842  0.71848899 0.27081539 0.75544182 0.08085881]\n",
      "  [0.5695428  0.9279654  0.23993457 0.76573692 0.78562125]]] \n",
      "\n",
      "a and e are equal\n",
      "their shape is: (2, 3, 5)\n",
      "their size is: 30\n"
     ]
    }
   ],
   "source": [
    "#your code here\n",
    "\n",
    "print (\"print a:\\n\\n\",a,\"\\n\")\n",
    "print (\"print e:\\n\\n\",e,\"\\n\")\n",
    "if a.shape == e.shape and a.size == e.size:\n",
    "    print (\"a and e are equal\")\n",
    "    print (\"their shape is:\",e.shape)\n",
    "    print (\"their size is:\",a.size)\n",
    "           \n",
    "else:\n",
    "    print (\"a and e are not equal\")\n",
    "    \n",
    "#They are equal, as all the elements of \"a\" were multipled by 1 to create array \"e\".  \n",
    "    "
   ]
  },
  {
   "cell_type": "markdown",
   "metadata": {},
   "source": [
    "#### 14. Identify the max, min, and mean values in *d*. Assign those values to variables *d_max*, *d_min* and *d_mean*."
   ]
  },
  {
   "cell_type": "code",
   "execution_count": 16,
   "metadata": {},
   "outputs": [
    {
     "name": "stdout",
     "output_type": "stream",
     "text": [
      "The maximun value of array d is: 1.9324474170796728\n",
      "The minimun value of array d is: 1.0140622786001319\n",
      "The mean value of array d is: 1.5036939406785508\n"
     ]
    }
   ],
   "source": [
    "#your code here\n",
    "\n",
    "d_max = d.max()\n",
    "print (\"The maximun value of array d is:\",d_max)\n",
    "d_min = d.min()\n",
    "print (\"The minimun value of array d is:\", d_min)\n",
    "d_mean = np.mean(d)\n",
    "print (\"The mean value of array d is:\", d_mean)\n"
   ]
  },
  {
   "cell_type": "markdown",
   "metadata": {},
   "source": [
    "#### 15. Now we want to label the values in *d*. First create an empty array *f* with the same shape (i.e. 2x3x5) as *d* using `np.empty`.\n"
   ]
  },
  {
   "cell_type": "code",
   "execution_count": 17,
   "metadata": {},
   "outputs": [],
   "source": [
    "#your code here\n",
    "f = np.empty([2,3,5], dtype=int)\n"
   ]
  },
  {
   "cell_type": "markdown",
   "metadata": {},
   "source": [
    "#### 16. Populate the values in *f*. \n",
    "\n",
    "For each value in *d*, if it's larger than *d_min* but smaller than *d_mean*, assign 25 to the corresponding value in *f*. If a value in *d* is larger than *d_mean* but smaller than *d_max*, assign 75 to the corresponding value in *f*. If a value equals to *d_mean*, assign 50 to the corresponding value in *f*. Assign 0 to the corresponding value(s) in *f* for *d_min* in *d*. Assign 100 to the corresponding value(s) in *f* for *d_max* in *d*. In the end, f should have only the following values: 0, 25, 50, 75, and 100.\n",
    "\n",
    "**Note**: you don't have to use Numpy in this question."
   ]
  },
  {
   "cell_type": "code",
   "execution_count": 18,
   "metadata": {},
   "outputs": [],
   "source": [
    "#your code here\n",
    "\n",
    "reshape_d = d.reshape(30)\n",
    "new_d = []\n",
    "for i in reshape_d:\n",
    "    if i > d_min and i < d_mean:\n",
    "        new_d.append(25.)\n",
    "    elif i == d_mean:\n",
    "        new_d.append(50.)\n",
    "    elif i > d_mean and i < d_max:\n",
    "        new_d.append(75.)\n",
    "    elif i == d_max:\n",
    "        new_d.append(100.)\n",
    "    else: \n",
    "        new_d.append(0.)\n",
    "array_d = np.array(new_d)\n",
    "f = array_d.reshape(2,3,5)\n"
   ]
  },
  {
   "cell_type": "markdown",
   "metadata": {},
   "source": [
    "#### 17. Print *d* and *f*. Do you have your expected *f*?\n",
    "For instance, if your *d* is:\n",
    "```python\n",
    "[[[1.85836099, 1.67064465, 1.62576044, 1.40243961, 1.88454931],\n",
    "[1.75354326, 1.69403643, 1.36729252, 1.61415071, 1.12104981],\n",
    "[1.72201435, 1.1862918 , 1.87078449, 1.7726778 , 1.88180042]],\n",
    "[[1.44747908, 1.31673383, 1.02000951, 1.52218947, 1.97066381],\n",
    "[1.79129243, 1.74983003, 1.96028037, 1.85166831, 1.65450881],\n",
    "[1.18068344, 1.9587381 , 1.00656599, 1.93402165, 1.73514584]]]\n",
    "```\n",
    "Your *f* should be:\n",
    "```python\n",
    "[[[ 75.,  75.,  75.,  25.,  75.],\n",
    "[ 75.,  75.,  25.,  25.,  25.],\n",
    "[ 75.,  25.,  75.,  75.,  75.]],\n",
    "[[ 25.,  25.,  25.,  25., 100.],\n",
    "[ 75.,  75.,  75.,  75.,  75.],\n",
    "[ 25.,  75.,   0.,  75.,  75.]]]\n",
    "```"
   ]
  },
  {
   "cell_type": "code",
   "execution_count": 19,
   "metadata": {},
   "outputs": [
    {
     "name": "stdout",
     "output_type": "stream",
     "text": [
      "print a:\n",
      " [[[0.59618351 0.35974153 0.13372083 0.44610441 0.72666858]\n",
      "  [0.3100121  0.39278694 0.09494036 0.93244742 0.55045195]\n",
      "  [0.75842489 0.81853919 0.36111903 0.08834256 0.85080305]]\n",
      "\n",
      " [[0.79507328 0.24295486 0.01406228 0.5317246  0.12592669]\n",
      "  [0.8663842  0.71848899 0.27081539 0.75544182 0.08085881]\n",
      "  [0.5695428  0.9279654  0.23993457 0.76573692 0.78562125]]] \n",
      "\n",
      "print f:\n",
      " [[[ 75.  25.  25.  25.  75.]\n",
      "  [ 25.  25.  25. 100.  75.]\n",
      "  [ 75.  75.  25.  25.  75.]]\n",
      "\n",
      " [[ 75.  25.   0.  75.  25.]\n",
      "  [ 75.  75.  25.  75.  25.]\n",
      "  [ 75.  75.  25.  75.  75.]]] \n",
      "\n"
     ]
    }
   ],
   "source": [
    "#your code here\n",
    "print (\"print a:\\n\",a,\"\\n\")\n",
    "print (\"print f:\\n\",f,\"\\n\")\n"
   ]
  },
  {
   "cell_type": "markdown",
   "metadata": {},
   "source": [
    "#### 18. Bonus question: instead of using numbers (i.e. 0, 25, 50, 75, and 100), use string values  (\"A\", \"B\", \"C\", \"D\", and \"E\") to label the array elements. For the example above, the expected result is:\n",
    "\n",
    "```python\n",
    "[[[ 'D',  'D',  'D',  'B',  'D'],\n",
    "[ 'D',  'D',  'B',  'B',  'B'],\n",
    "[ 'D',  'B',  'D',  'D',  'D']],\n",
    "[[ 'B',  'B',  'B',  'B',  'E'],\n",
    "[ 'D',  'D',  'D',  'D',  'D'],\n",
    "[ 'B',  'D',   'A',  'D', 'D']]]\n",
    "```\n",
    "**Note**: you don't have to use Numpy in this question."
   ]
  },
  {
   "cell_type": "code",
   "execution_count": 20,
   "metadata": {},
   "outputs": [],
   "source": [
    "#your code here\n",
    "\n",
    "reshape_d = d.reshape(30)\n",
    "new_d = []\n",
    "for i in reshape_d:\n",
    "    if i > d_min and i < d_mean:\n",
    "        new_d.append(\"B\")\n",
    "    elif i == d_mean:\n",
    "        new_d.append(\"C\")\n",
    "    elif i > d_mean and i < d_max:\n",
    "        new_d.append(\"D\")\n",
    "    elif i == d_max:\n",
    "        new_d.append(\"E\")\n",
    "    else: \n",
    "        new_d.append(\"A\")\n",
    "array_d = np.array(new_d)\n",
    "bonus = array_d.reshape(2,3,5)\n"
   ]
  },
  {
   "cell_type": "code",
   "execution_count": 21,
   "metadata": {},
   "outputs": [
    {
     "name": "stdout",
     "output_type": "stream",
     "text": [
      "[[['D' 'B' 'B' 'B' 'D']\n",
      "  ['B' 'B' 'B' 'E' 'D']\n",
      "  ['D' 'D' 'B' 'B' 'D']]\n",
      "\n",
      " [['D' 'B' 'A' 'D' 'B']\n",
      "  ['D' 'D' 'B' 'D' 'B']\n",
      "  ['D' 'D' 'B' 'D' 'D']]]\n"
     ]
    }
   ],
   "source": [
    "#your code here\n",
    "print (bonus)\n"
   ]
  },
  {
   "cell_type": "code",
   "execution_count": null,
   "metadata": {},
   "outputs": [],
   "source": []
  }
 ],
 "metadata": {
  "kernelspec": {
   "display_name": "Python 3 (ipykernel)",
   "language": "python",
   "name": "python3"
  },
  "language_info": {
   "codemirror_mode": {
    "name": "ipython",
    "version": 3
   },
   "file_extension": ".py",
   "mimetype": "text/x-python",
   "name": "python",
   "nbconvert_exporter": "python",
   "pygments_lexer": "ipython3",
   "version": "3.7.11"
  }
 },
 "nbformat": 4,
 "nbformat_minor": 2
}
