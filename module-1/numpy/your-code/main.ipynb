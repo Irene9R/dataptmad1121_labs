{
 "cells": [
  {
   "cell_type": "markdown",
   "metadata": {},
   "source": [
    "# Introduction to NumPy\n",
    "\n",
    "\n",
    "#### 1. Import NumPy under the name np."
   ]
  },
  {
   "cell_type": "code",
   "execution_count": 1,
   "metadata": {},
   "outputs": [],
   "source": [
    "import numpy as np"
   ]
  },
  {
   "cell_type": "markdown",
   "metadata": {},
   "source": [
    "#### 2. Print your NumPy version."
   ]
  },
  {
   "cell_type": "code",
   "execution_count": 2,
   "metadata": {},
   "outputs": [
    {
     "name": "stdout",
     "output_type": "stream",
     "text": [
      "1.21.2\n"
     ]
    }
   ],
   "source": [
    "print(np.__version__)"
   ]
  },
  {
   "cell_type": "markdown",
   "metadata": {},
   "source": [
    "#### 3. Generate a 2x3x5 3-dimensional array with random values. Assign the array to variable *a*.\n",
    "**Challenge**: there are at least three easy ways that use numpy to generate random arrays. How many ways can you find?"
   ]
  },
  {
   "cell_type": "code",
   "execution_count": 3,
   "metadata": {},
   "outputs": [],
   "source": [
    "a = np.random.random((2,3,5))"
   ]
  },
  {
   "cell_type": "code",
   "execution_count": 4,
   "metadata": {},
   "outputs": [],
   "source": [
    "a1 = np.empty([2,3,5], dtype=int)"
   ]
  },
  {
   "cell_type": "code",
   "execution_count": 5,
   "metadata": {},
   "outputs": [],
   "source": [
    "# Method 3"
   ]
  },
  {
   "cell_type": "markdown",
   "metadata": {},
   "source": [
    "#### 4. Print *a*.\n"
   ]
  },
  {
   "cell_type": "code",
   "execution_count": 5,
   "metadata": {},
   "outputs": [
    {
     "name": "stdout",
     "output_type": "stream",
     "text": [
      "print a with method 1:\n",
      " [[[0.79119413 0.31688801 0.62615817 0.79315561 0.31437676]\n",
      "  [0.25640352 0.6500279  0.65277144 0.08805702 0.4010542 ]\n",
      "  [0.56648601 0.94272585 0.67925456 0.93875006 0.48950462]]\n",
      "\n",
      " [[0.42328481 0.77765106 0.37664629 0.25057456 0.44145379]\n",
      "  [0.95024643 0.87572167 0.6583767  0.32110094 0.60865399]\n",
      "  [0.59976601 0.85002914 0.170552   0.15633245 0.45458977]]]\n",
      "\n",
      "\n",
      "print a with method 2:\n",
      " [[[0 0 0 0 0]\n",
      "  [0 0 0 0 0]\n",
      "  [0 0 0 0 0]]\n",
      "\n",
      " [[0 0 0 0 0]\n",
      "  [0 0 0 0 0]\n",
      "  [0 0 0 0 0]]]\n",
      "\n",
      "\n"
     ]
    }
   ],
   "source": [
    "print (\"print a with method 1:\\n\",a)\n",
    "print (\"\\n\")\n",
    "print (\"print a with method 2:\\n\",a1)\n",
    "print (\"\\n\")"
   ]
  },
  {
   "cell_type": "markdown",
   "metadata": {},
   "source": [
    "#### 5. Create a 5x2x3 3-dimensional array with all values equaling 1. Assign the array to variable *b*."
   ]
  },
  {
   "cell_type": "code",
   "execution_count": 6,
   "metadata": {},
   "outputs": [],
   "source": [
    "b = np.ones((5,2,3))"
   ]
  },
  {
   "cell_type": "markdown",
   "metadata": {},
   "source": [
    "#### 6. Print *b*.\n"
   ]
  },
  {
   "cell_type": "code",
   "execution_count": 7,
   "metadata": {},
   "outputs": [
    {
     "name": "stdout",
     "output_type": "stream",
     "text": [
      "[[[1. 1. 1.]\n",
      "  [1. 1. 1.]]\n",
      "\n",
      " [[1. 1. 1.]\n",
      "  [1. 1. 1.]]\n",
      "\n",
      " [[1. 1. 1.]\n",
      "  [1. 1. 1.]]\n",
      "\n",
      " [[1. 1. 1.]\n",
      "  [1. 1. 1.]]\n",
      "\n",
      " [[1. 1. 1.]\n",
      "  [1. 1. 1.]]]\n"
     ]
    }
   ],
   "source": [
    "print(b)"
   ]
  },
  {
   "cell_type": "markdown",
   "metadata": {},
   "source": [
    "#### 7. Do *a* and *b* have the same size? How do you prove that in Python code?"
   ]
  },
  {
   "cell_type": "code",
   "execution_count": 8,
   "metadata": {},
   "outputs": [
    {
     "name": "stdout",
     "output_type": "stream",
     "text": [
      "30\n",
      "30\n",
      "¿Are a and b the same size?: True \n",
      "The total number of elements in both of them is: 30\n"
     ]
    }
   ],
   "source": [
    "print (a.size)\n",
    "print (b.size)\n",
    "if a.size == b.size:\n",
    "    print (\"¿Are a and b the same size?:\",True,\"\\nThe total number of elements in both of them is:\",a.size)\n",
    "else: \n",
    "    print (False)"
   ]
  },
  {
   "cell_type": "markdown",
   "metadata": {},
   "source": [
    "#### 8. Are you able to add *a* and *b*? Why or why not?\n"
   ]
  },
  {
   "cell_type": "code",
   "execution_count": 9,
   "metadata": {},
   "outputs": [
    {
     "ename": "ValueError",
     "evalue": "operands could not be broadcast together with shapes (2,3,5) (5,2,3) ",
     "output_type": "error",
     "traceback": [
      "\u001b[1;31m---------------------------------------------------------------------------\u001b[0m",
      "\u001b[1;31mValueError\u001b[0m                                Traceback (most recent call last)",
      "\u001b[1;32m~\\AppData\\Local\\Temp/ipykernel_49812/1868141446.py\u001b[0m in \u001b[0;36m<module>\u001b[1;34m\u001b[0m\n\u001b[1;32m----> 1\u001b[1;33m \u001b[0msumab\u001b[0m \u001b[1;33m=\u001b[0m \u001b[0ma\u001b[0m\u001b[1;33m+\u001b[0m\u001b[0mb\u001b[0m\u001b[1;33m\u001b[0m\u001b[1;33m\u001b[0m\u001b[0m\n\u001b[0m\u001b[0;32m      2\u001b[0m \u001b[1;31m# It cannot be added since a and b have different shapes.\u001b[0m\u001b[1;33m\u001b[0m\u001b[1;33m\u001b[0m\u001b[1;33m\u001b[0m\u001b[0m\n",
      "\u001b[1;31mValueError\u001b[0m: operands could not be broadcast together with shapes (2,3,5) (5,2,3) "
     ]
    }
   ],
   "source": [
    "sumab = a+b\n",
    "# It cannot be added since a and b have different shapes. "
   ]
  },
  {
   "cell_type": "markdown",
   "metadata": {},
   "source": [
    "#### 9. Transpose *b* so that it has the same structure of *a* (i.e. become a 2x3x5 array). Assign the transposed array to variable *c*."
   ]
  },
  {
   "cell_type": "code",
   "execution_count": 10,
   "metadata": {},
   "outputs": [
    {
     "name": "stdout",
     "output_type": "stream",
     "text": [
      "[[[1. 1. 1. 1. 1.]\n",
      "  [1. 1. 1. 1. 1.]\n",
      "  [1. 1. 1. 1. 1.]]\n",
      "\n",
      " [[1. 1. 1. 1. 1.]\n",
      "  [1. 1. 1. 1. 1.]\n",
      "  [1. 1. 1. 1. 1.]]]\n"
     ]
    }
   ],
   "source": [
    "c = b.transpose(1,2,0)\n",
    "print (c)"
   ]
  },
  {
   "cell_type": "markdown",
   "metadata": {},
   "source": [
    "#### 10. Try to add *a* and *c*. Now it should work. Assign the sum to variable *d*. But why does it work now?"
   ]
  },
  {
   "cell_type": "code",
   "execution_count": 11,
   "metadata": {},
   "outputs": [],
   "source": [
    "#Method1\n",
    "#d = a+c\n",
    "#print (d)\n",
    "\n",
    "#Method2\n",
    "d = np.add(a, c)"
   ]
  },
  {
   "cell_type": "markdown",
   "metadata": {},
   "source": [
    "#### 11. Print *a* and *d*. Notice the difference and relation of the two array in terms of the values? Explain."
   ]
  },
  {
   "cell_type": "code",
   "execution_count": 12,
   "metadata": {},
   "outputs": [
    {
     "name": "stdout",
     "output_type": "stream",
     "text": [
      "Matrix a=\n",
      "\n",
      " [[[0.79119413 0.31688801 0.62615817 0.79315561 0.31437676]\n",
      "  [0.25640352 0.6500279  0.65277144 0.08805702 0.4010542 ]\n",
      "  [0.56648601 0.94272585 0.67925456 0.93875006 0.48950462]]\n",
      "\n",
      " [[0.42328481 0.77765106 0.37664629 0.25057456 0.44145379]\n",
      "  [0.95024643 0.87572167 0.6583767  0.32110094 0.60865399]\n",
      "  [0.59976601 0.85002914 0.170552   0.15633245 0.45458977]]]\n",
      "\n",
      "\n",
      "Matrix d=\n",
      "\n",
      " [[[1.79119413 1.31688801 1.62615817 1.79315561 1.31437676]\n",
      "  [1.25640352 1.6500279  1.65277144 1.08805702 1.4010542 ]\n",
      "  [1.56648601 1.94272585 1.67925456 1.93875006 1.48950462]]\n",
      "\n",
      " [[1.42328481 1.77765106 1.37664629 1.25057456 1.44145379]\n",
      "  [1.95024643 1.87572167 1.6583767  1.32110094 1.60865399]\n",
      "  [1.59976601 1.85002914 1.170552   1.15633245 1.45458977]]]\n",
      "\n",
      "\n"
     ]
    }
   ],
   "source": [
    "print (\"Matrix a=\\n\\n\",a)\n",
    "print (\"\\n\")\n",
    "print (\"Matrix d=\\n\\n\",d)\n",
    "print (\"\\n\")"
   ]
  },
  {
   "cell_type": "markdown",
   "metadata": {},
   "source": [
    "#### 12. Multiply *a* and *c*. Assign the result to *e*."
   ]
  },
  {
   "cell_type": "code",
   "execution_count": 13,
   "metadata": {},
   "outputs": [],
   "source": [
    "#Method 1\n",
    "#e = a * c\n",
    "#print (e)\n",
    "\n",
    "#or\n",
    "\n",
    "#Method 2\n",
    "e = np.multiply(a, c)"
   ]
  },
  {
   "cell_type": "markdown",
   "metadata": {},
   "source": [
    "#### 13. Does *e* equal to *a*? Why or why not?\n"
   ]
  },
  {
   "cell_type": "code",
   "execution_count": 14,
   "metadata": {},
   "outputs": [
    {
     "name": "stdout",
     "output_type": "stream",
     "text": [
      "print a:\n",
      " [[[0.79119413 0.31688801 0.62615817 0.79315561 0.31437676]\n",
      "  [0.25640352 0.6500279  0.65277144 0.08805702 0.4010542 ]\n",
      "  [0.56648601 0.94272585 0.67925456 0.93875006 0.48950462]]\n",
      "\n",
      " [[0.42328481 0.77765106 0.37664629 0.25057456 0.44145379]\n",
      "  [0.95024643 0.87572167 0.6583767  0.32110094 0.60865399]\n",
      "  [0.59976601 0.85002914 0.170552   0.15633245 0.45458977]]] \n",
      "\n",
      "print e:\n",
      " [[[0.79119413 0.31688801 0.62615817 0.79315561 0.31437676]\n",
      "  [0.25640352 0.6500279  0.65277144 0.08805702 0.4010542 ]\n",
      "  [0.56648601 0.94272585 0.67925456 0.93875006 0.48950462]]\n",
      "\n",
      " [[0.42328481 0.77765106 0.37664629 0.25057456 0.44145379]\n",
      "  [0.95024643 0.87572167 0.6583767  0.32110094 0.60865399]\n",
      "  [0.59976601 0.85002914 0.170552   0.15633245 0.45458977]]] \n",
      "\n",
      "a and e are equal\n",
      "their shape is: (2, 3, 5)\n",
      "their size is: 30\n"
     ]
    }
   ],
   "source": [
    "print (\"print a:\\n\",a,\"\\n\")\n",
    "print (\"print e:\\n\",e,\"\\n\")\n",
    "if a.shape == e.shape and a.size == e.size:\n",
    "    print (\"a and e are equal\")\n",
    "    print (\"their shape is:\",e.shape)\n",
    "    print (\"their size is:\",a.size)\n",
    "           \n",
    "else:\n",
    "    print (\"a and e are not equal\")\n",
    "    "
   ]
  },
  {
   "cell_type": "markdown",
   "metadata": {},
   "source": [
    "#### 14. Identify the max, min, and mean values in *d*. Assign those values to variables *d_max*, *d_min* and *d_mean*."
   ]
  },
  {
   "cell_type": "code",
   "execution_count": 15,
   "metadata": {},
   "outputs": [
    {
     "name": "stdout",
     "output_type": "stream",
     "text": [
      "The maximun value of array d is: 1.950246432390669\n",
      "The minimun value of array d is: 1.0880570204994084\n",
      "The mean value of array d is: 1.5473929151125825\n"
     ]
    }
   ],
   "source": [
    "d_max = d.max()\n",
    "print (\"The maximun value of array d is:\",d_max)\n",
    "d_min = d.min()\n",
    "print (\"The minimun value of array d is:\", d_min)\n",
    "d_mean = np.mean(d)\n",
    "print (\"The mean value of array d is:\", d_mean)"
   ]
  },
  {
   "cell_type": "markdown",
   "metadata": {},
   "source": [
    "#### 15. Now we want to label the values in *d*. First create an empty array *f* with the same shape (i.e. 2x3x5) as *d* using `np.empty`.\n"
   ]
  },
  {
   "cell_type": "code",
   "execution_count": 16,
   "metadata": {},
   "outputs": [],
   "source": [
    "f = np.empty([2,3,5], dtype=int)"
   ]
  },
  {
   "cell_type": "markdown",
   "metadata": {},
   "source": [
    "#### 16. Populate the values in *f*. \n",
    "\n",
    "For each value in *d*, if it's larger than *d_min* but smaller than *d_mean*, assign 25 to the corresponding value in *f*. If a value in *d* is larger than *d_mean* but smaller than *d_max*, assign 75 to the corresponding value in *f*. If a value equals to *d_mean*, assign 50 to the corresponding value in *f*. Assign 0 to the corresponding value(s) in *f* for *d_min* in *d*. Assign 100 to the corresponding value(s) in *f* for *d_max* in *d*. In the end, f should have only the following values: 0, 25, 50, 75, and 100.\n",
    "\n",
    "**Note**: you don't have to use Numpy in this question."
   ]
  },
  {
   "cell_type": "code",
   "execution_count": 18,
   "metadata": {},
   "outputs": [],
   "source": [
    "reshape_d = d.reshape(30)\n",
    "new_d = []\n",
    "for i in reshape_d:\n",
    "    if i > d_min and i < d_mean:\n",
    "        new_d.append(25.)\n",
    "    elif i == d.mean:\n",
    "        new_d.append(50.)\n",
    "    elif i > d_mean and i < d_max:\n",
    "        new_d.append(75.)\n",
    "    elif i == d.min:\n",
    "        new_d.append(100.)\n",
    "    else: \n",
    "        new_d.append(0)\n",
    "array_d = np.array(new_d)\n",
    "f = array_d.reshape(2,3,5)\n"
   ]
  },
  {
   "cell_type": "markdown",
   "metadata": {},
   "source": [
    "#### 17. Print *d* and *f*. Do you have your expected *f*?\n",
    "For instance, if your *d* is:\n",
    "```python\n",
    "[[[1.85836099, 1.67064465, 1.62576044, 1.40243961, 1.88454931],\n",
    "[1.75354326, 1.69403643, 1.36729252, 1.61415071, 1.12104981],\n",
    "[1.72201435, 1.1862918 , 1.87078449, 1.7726778 , 1.88180042]],\n",
    "[[1.44747908, 1.31673383, 1.02000951, 1.52218947, 1.97066381],\n",
    "[1.79129243, 1.74983003, 1.96028037, 1.85166831, 1.65450881],\n",
    "[1.18068344, 1.9587381 , 1.00656599, 1.93402165, 1.73514584]]]\n",
    "```\n",
    "Your *f* should be:\n",
    "```python\n",
    "[[[ 75.,  75.,  75.,  25.,  75.],\n",
    "[ 75.,  75.,  25.,  25.,  25.],\n",
    "[ 75.,  25.,  75.,  75.,  75.]],\n",
    "[[ 25.,  25.,  25.,  25., 100.],\n",
    "[ 75.,  75.,  75.,  75.,  75.],\n",
    "[ 25.,  75.,   0.,  75.,  75.]]]\n",
    "```"
   ]
  },
  {
   "cell_type": "code",
   "execution_count": 19,
   "metadata": {},
   "outputs": [
    {
     "name": "stdout",
     "output_type": "stream",
     "text": [
      "print a:\n",
      " [[[0.79119413 0.31688801 0.62615817 0.79315561 0.31437676]\n",
      "  [0.25640352 0.6500279  0.65277144 0.08805702 0.4010542 ]\n",
      "  [0.56648601 0.94272585 0.67925456 0.93875006 0.48950462]]\n",
      "\n",
      " [[0.42328481 0.77765106 0.37664629 0.25057456 0.44145379]\n",
      "  [0.95024643 0.87572167 0.6583767  0.32110094 0.60865399]\n",
      "  [0.59976601 0.85002914 0.170552   0.15633245 0.45458977]]] \n",
      "\n",
      "print f:\n",
      " [[[75. 25. 75. 75. 25.]\n",
      "  [25. 75. 75.  0. 25.]\n",
      "  [75. 75. 75. 75. 25.]]\n",
      "\n",
      " [[25. 75. 25. 25. 25.]\n",
      "  [ 0. 75. 75. 25. 75.]\n",
      "  [75. 75. 25. 25. 25.]]] \n",
      "\n"
     ]
    }
   ],
   "source": [
    "print (\"print a:\\n\",a,\"\\n\")\n",
    "print (\"print f:\\n\",f,\"\\n\")"
   ]
  },
  {
   "cell_type": "markdown",
   "metadata": {},
   "source": [
    "#### 18. Bonus question: instead of using numbers (i.e. 0, 25, 50, 75, and 100), use string values  (\"A\", \"B\", \"C\", \"D\", and \"E\") to label the array elements. For the example above, the expected result is:\n",
    "\n",
    "```python\n",
    "[[[ 'D',  'D',  'D',  'B',  'D'],\n",
    "[ 'D',  'D',  'B',  'B',  'B'],\n",
    "[ 'D',  'B',  'D',  'D',  'D']],\n",
    "[[ 'B',  'B',  'B',  'B',  'E'],\n",
    "[ 'D',  'D',  'D',  'D',  'D'],\n",
    "[ 'B',  'D',   'A',  'D', 'D']]]\n",
    "```\n",
    "**Note**: you don't have to use Numpy in this question."
   ]
  },
  {
   "cell_type": "code",
   "execution_count": 20,
   "metadata": {},
   "outputs": [],
   "source": [
    "reshape_d = d.reshape(30)\n",
    "new_d = []\n",
    "for i in reshape_d:\n",
    "    if i > d_min and i < d_mean:\n",
    "        new_d.append(\"B\")\n",
    "    elif i == d.mean:\n",
    "        new_d.append(\"C\")\n",
    "    elif i > d_mean and i < d_max:\n",
    "        new_d.append(\"D\")\n",
    "    elif i == d.min:\n",
    "        new_d.append(\"E\")\n",
    "    else: \n",
    "        new_d.append(\"A\")\n",
    "array_d = np.array(new_d)\n",
    "bonus = array_d.reshape(2,3,5)"
   ]
  },
  {
   "cell_type": "code",
   "execution_count": 21,
   "metadata": {},
   "outputs": [
    {
     "name": "stdout",
     "output_type": "stream",
     "text": [
      "[[['D' 'B' 'D' 'D' 'B']\n",
      "  ['B' 'D' 'D' 'A' 'B']\n",
      "  ['D' 'D' 'D' 'D' 'B']]\n",
      "\n",
      " [['B' 'D' 'B' 'B' 'B']\n",
      "  ['A' 'D' 'D' 'B' 'D']\n",
      "  ['D' 'D' 'B' 'B' 'B']]]\n"
     ]
    }
   ],
   "source": [
    "print (bonus)"
   ]
  },
  {
   "cell_type": "code",
   "execution_count": null,
   "metadata": {},
   "outputs": [],
   "source": []
  }
 ],
 "metadata": {
  "kernelspec": {
   "display_name": "Python 3 (ipykernel)",
   "language": "python",
   "name": "python3"
  },
  "language_info": {
   "codemirror_mode": {
    "name": "ipython",
    "version": 3
   },
   "file_extension": ".py",
   "mimetype": "text/x-python",
   "name": "python",
   "nbconvert_exporter": "python",
   "pygments_lexer": "ipython3",
   "version": "3.7.11"
  }
 },
 "nbformat": 4,
 "nbformat_minor": 2
}
