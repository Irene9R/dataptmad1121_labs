{
 "cells": [
  {
   "cell_type": "markdown",
   "metadata": {},
   "source": [
    "# Introduction to NumPy\n",
    "\n",
    "\n",
    "#### 1. Import NumPy under the name np."
   ]
  },
  {
   "cell_type": "code",
   "execution_count": 1,
   "metadata": {},
   "outputs": [],
   "source": [
    "import numpy as np"
   ]
  },
  {
   "cell_type": "markdown",
   "metadata": {},
   "source": [
    "#### 2. Print your NumPy version."
   ]
  },
  {
   "cell_type": "code",
   "execution_count": 2,
   "metadata": {},
   "outputs": [
    {
     "name": "stdout",
     "output_type": "stream",
     "text": [
      "1.21.2\n"
     ]
    }
   ],
   "source": [
    "print(np.__version__)"
   ]
  },
  {
   "cell_type": "markdown",
   "metadata": {},
   "source": [
    "#### 3. Generate a 2x3x5 3-dimensional array with random values. Assign the array to variable *a*.\n",
    "**Challenge**: there are at least three easy ways that use numpy to generate random arrays. How many ways can you find?"
   ]
  },
  {
   "cell_type": "code",
   "execution_count": 38,
   "metadata": {},
   "outputs": [],
   "source": [
    "a = np.random.random((2,3,5))"
   ]
  },
  {
   "cell_type": "code",
   "execution_count": null,
   "metadata": {},
   "outputs": [],
   "source": [
    "a1 = np.array((6,6))"
   ]
  },
  {
   "cell_type": "code",
   "execution_count": null,
   "metadata": {},
   "outputs": [],
   "source": [
    "# Method 3"
   ]
  },
  {
   "cell_type": "markdown",
   "metadata": {},
   "source": [
    "#### 4. Print *a*.\n"
   ]
  },
  {
   "cell_type": "code",
   "execution_count": 39,
   "metadata": {},
   "outputs": [
    {
     "name": "stdout",
     "output_type": "stream",
     "text": [
      "[[[0.50946398 0.62177477 0.53240022 0.80068999 0.49729126]\n",
      "  [0.2711557  0.83087116 0.41806446 0.66328216 0.92568766]\n",
      "  [0.64077971 0.48851235 0.52790675 0.29197753 0.78967211]]\n",
      "\n",
      " [[0.3116916  0.64621744 0.71610253 0.10772632 0.33339829]\n",
      "  [0.52612297 0.13111035 0.65984261 0.85126451 0.2534137 ]\n",
      "  [0.31191206 0.15375813 0.3495539  0.73958819 0.14624392]]]\n"
     ]
    }
   ],
   "source": [
    "print (a)"
   ]
  },
  {
   "cell_type": "markdown",
   "metadata": {},
   "source": [
    "#### 5. Create a 5x2x3 3-dimensional array with all values equaling 1. Assign the array to variable *b*."
   ]
  },
  {
   "cell_type": "code",
   "execution_count": 40,
   "metadata": {},
   "outputs": [],
   "source": [
    "b = np.ones((5,2,3))"
   ]
  },
  {
   "cell_type": "markdown",
   "metadata": {},
   "source": [
    "#### 6. Print *b*.\n"
   ]
  },
  {
   "cell_type": "code",
   "execution_count": 41,
   "metadata": {},
   "outputs": [
    {
     "name": "stdout",
     "output_type": "stream",
     "text": [
      "[[[1. 1. 1.]\n",
      "  [1. 1. 1.]]\n",
      "\n",
      " [[1. 1. 1.]\n",
      "  [1. 1. 1.]]\n",
      "\n",
      " [[1. 1. 1.]\n",
      "  [1. 1. 1.]]\n",
      "\n",
      " [[1. 1. 1.]\n",
      "  [1. 1. 1.]]\n",
      "\n",
      " [[1. 1. 1.]\n",
      "  [1. 1. 1.]]]\n"
     ]
    }
   ],
   "source": [
    "print(b)"
   ]
  },
  {
   "cell_type": "markdown",
   "metadata": {},
   "source": [
    "#### 7. Do *a* and *b* have the same size? How do you prove that in Python code?"
   ]
  },
  {
   "cell_type": "code",
   "execution_count": 42,
   "metadata": {},
   "outputs": [
    {
     "name": "stdout",
     "output_type": "stream",
     "text": [
      "30\n",
      "30\n",
      "¿Are a and b the same size?: True \n",
      "The total number of elements in both of them is: 30\n"
     ]
    }
   ],
   "source": [
    "print (a.size)\n",
    "print (b.size)\n",
    "if a.size == b.size:\n",
    "    print (\"¿Are a and b the same size?:\",True,\"\\nThe total number of elements in both of them is:\",a.size)\n",
    "else: \n",
    "    print (False)"
   ]
  },
  {
   "cell_type": "markdown",
   "metadata": {},
   "source": [
    "#### 8. Are you able to add *a* and *b*? Why or why not?\n"
   ]
  },
  {
   "cell_type": "code",
   "execution_count": 47,
   "metadata": {},
   "outputs": [],
   "source": [
    " sumab = a+b\n",
    "# It cannot be added since a and b have different shapes. "
   ]
  },
  {
   "cell_type": "markdown",
   "metadata": {},
   "source": [
    "#### 9. Transpose *b* so that it has the same structure of *a* (i.e. become a 2x3x5 array). Assign the transposed array to variable *c*."
   ]
  },
  {
   "cell_type": "code",
   "execution_count": 48,
   "metadata": {},
   "outputs": [
    {
     "name": "stdout",
     "output_type": "stream",
     "text": [
      "[[[1. 1. 1. 1. 1.]\n",
      "  [1. 1. 1. 1. 1.]\n",
      "  [1. 1. 1. 1. 1.]]\n",
      "\n",
      " [[1. 1. 1. 1. 1.]\n",
      "  [1. 1. 1. 1. 1.]\n",
      "  [1. 1. 1. 1. 1.]]]\n"
     ]
    }
   ],
   "source": [
    "c = b.transpose(1,2,0)\n",
    "print (c)"
   ]
  },
  {
   "cell_type": "markdown",
   "metadata": {},
   "source": [
    "#### 10. Try to add *a* and *c*. Now it should work. Assign the sum to variable *d*. But why does it work now?"
   ]
  },
  {
   "cell_type": "code",
   "execution_count": 64,
   "metadata": {},
   "outputs": [
    {
     "name": "stdout",
     "output_type": "stream",
     "text": [
      "[[[1.50946398 1.62177477 1.53240022 1.80068999 1.49729126]\n",
      "  [1.2711557  1.83087116 1.41806446 1.66328216 1.92568766]\n",
      "  [1.64077971 1.48851235 1.52790675 1.29197753 1.78967211]]\n",
      "\n",
      " [[1.3116916  1.64621744 1.71610253 1.10772632 1.33339829]\n",
      "  [1.52612297 1.13111035 1.65984261 1.85126451 1.2534137 ]\n",
      "  [1.31191206 1.15375813 1.3495539  1.73958819 1.14624392]]]\n"
     ]
    }
   ],
   "source": [
    "d = a+c\n",
    "\n",
    "d = print(np.add(a, c))"
   ]
  },
  {
   "cell_type": "markdown",
   "metadata": {},
   "source": [
    "#### 11. Print *a* and *d*. Notice the difference and relation of the two array in terms of the values? Explain."
   ]
  },
  {
   "cell_type": "code",
   "execution_count": 45,
   "metadata": {},
   "outputs": [
    {
     "name": "stdout",
     "output_type": "stream",
     "text": [
      "Matrix a=\n",
      "\n",
      " [[[0.50946398 0.62177477 0.53240022 0.80068999 0.49729126]\n",
      "  [0.2711557  0.83087116 0.41806446 0.66328216 0.92568766]\n",
      "  [0.64077971 0.48851235 0.52790675 0.29197753 0.78967211]]\n",
      "\n",
      " [[0.3116916  0.64621744 0.71610253 0.10772632 0.33339829]\n",
      "  [0.52612297 0.13111035 0.65984261 0.85126451 0.2534137 ]\n",
      "  [0.31191206 0.15375813 0.3495539  0.73958819 0.14624392]]]\n",
      "\n",
      "\n",
      "Matrix d=\n",
      "\n",
      " [[[1.50946398 1.62177477 1.53240022 1.80068999 1.49729126]\n",
      "  [1.2711557  1.83087116 1.41806446 1.66328216 1.92568766]\n",
      "  [1.64077971 1.48851235 1.52790675 1.29197753 1.78967211]]\n",
      "\n",
      " [[1.3116916  1.64621744 1.71610253 1.10772632 1.33339829]\n",
      "  [1.52612297 1.13111035 1.65984261 1.85126451 1.2534137 ]\n",
      "  [1.31191206 1.15375813 1.3495539  1.73958819 1.14624392]]]\n",
      "\n",
      "\n"
     ]
    }
   ],
   "source": [
    "print (\"Matrix a=\\n\\n\",a)\n",
    "print (\"\\n\")\n",
    "print (\"Matrix d=\\n\\n\",d)\n",
    "print (\"\\n\")"
   ]
  },
  {
   "cell_type": "markdown",
   "metadata": {},
   "source": [
    "#### 12. Multiply *a* and *c*. Assign the result to *e*."
   ]
  },
  {
   "cell_type": "code",
   "execution_count": 58,
   "metadata": {},
   "outputs": [
    {
     "name": "stdout",
     "output_type": "stream",
     "text": [
      "[[[0.50946398 0.62177477 0.53240022 0.80068999 0.49729126]\n",
      "  [0.2711557  0.83087116 0.41806446 0.66328216 0.92568766]\n",
      "  [0.64077971 0.48851235 0.52790675 0.29197753 0.78967211]]\n",
      "\n",
      " [[0.3116916  0.64621744 0.71610253 0.10772632 0.33339829]\n",
      "  [0.52612297 0.13111035 0.65984261 0.85126451 0.2534137 ]\n",
      "  [0.31191206 0.15375813 0.3495539  0.73958819 0.14624392]]]\n"
     ]
    }
   ],
   "source": [
    "#Method 1\n",
    "#e = a * c\n",
    "#print (e)\n",
    "\n",
    "#or\n",
    "\n",
    "#Method 2\n",
    "e = print(np.multiply(a, c))"
   ]
  },
  {
   "cell_type": "markdown",
   "metadata": {},
   "source": [
    "#### 13. Does *e* equal to *a*? Why or why not?\n"
   ]
  },
  {
   "cell_type": "code",
   "execution_count": 54,
   "metadata": {},
   "outputs": [
    {
     "name": "stdout",
     "output_type": "stream",
     "text": [
      "print a:\n",
      " [[[0.50946398 0.62177477 0.53240022 0.80068999 0.49729126]\n",
      "  [0.2711557  0.83087116 0.41806446 0.66328216 0.92568766]\n",
      "  [0.64077971 0.48851235 0.52790675 0.29197753 0.78967211]]\n",
      "\n",
      " [[0.3116916  0.64621744 0.71610253 0.10772632 0.33339829]\n",
      "  [0.52612297 0.13111035 0.65984261 0.85126451 0.2534137 ]\n",
      "  [0.31191206 0.15375813 0.3495539  0.73958819 0.14624392]]] \n",
      "\n",
      "print e:\n",
      " [[[0.50946398 0.62177477 0.53240022 0.80068999 0.49729126]\n",
      "  [0.2711557  0.83087116 0.41806446 0.66328216 0.92568766]\n",
      "  [0.64077971 0.48851235 0.52790675 0.29197753 0.78967211]]\n",
      "\n",
      " [[0.3116916  0.64621744 0.71610253 0.10772632 0.33339829]\n",
      "  [0.52612297 0.13111035 0.65984261 0.85126451 0.2534137 ]\n",
      "  [0.31191206 0.15375813 0.3495539  0.73958819 0.14624392]]] \n",
      "\n",
      "a and e are equal\n",
      "their shape is: (2, 3, 5)\n",
      "their size is: 30\n"
     ]
    }
   ],
   "source": [
    "print (\"print a:\\n\",a,\"\\n\")\n",
    "print (\"print e:\\n\",e,\"\\n\")\n",
    "if a.shape == e.shape and a.size == e.size:\n",
    "    print (\"a and e are equal\")\n",
    "    print (\"their shape is:\",e.shape)\n",
    "    print (\"their size is:\",a.size)\n",
    "           \n",
    "else:\n",
    "    print (\"a and e are not equal\")\n"
   ]
  },
  {
   "cell_type": "markdown",
   "metadata": {},
   "source": [
    "#### 14. Identify the max, min, and mean values in *d*. Assign those values to variables *d_max*, *d_min* and *d_mean*."
   ]
  },
  {
   "cell_type": "code",
   "execution_count": 65,
   "metadata": {},
   "outputs": [
    {
     "ename": "AttributeError",
     "evalue": "'NoneType' object has no attribute 'max'",
     "output_type": "error",
     "traceback": [
      "\u001b[1;31m---------------------------------------------------------------------------\u001b[0m",
      "\u001b[1;31mAttributeError\u001b[0m                            Traceback (most recent call last)",
      "\u001b[1;32m~\\AppData\\Local\\Temp/ipykernel_47000/917442989.py\u001b[0m in \u001b[0;36m<module>\u001b[1;34m\u001b[0m\n\u001b[1;32m----> 1\u001b[1;33m \u001b[0md_max\u001b[0m \u001b[1;33m=\u001b[0m \u001b[0md\u001b[0m\u001b[1;33m.\u001b[0m\u001b[0mmax\u001b[0m\u001b[1;33m(\u001b[0m\u001b[1;33m)\u001b[0m\u001b[1;33m\u001b[0m\u001b[1;33m\u001b[0m\u001b[0m\n\u001b[0m\u001b[0;32m      2\u001b[0m \u001b[0mprint\u001b[0m \u001b[1;33m(\u001b[0m\u001b[1;34m\"The maximun value of array d is:\"\u001b[0m\u001b[1;33m,\u001b[0m\u001b[0md_max\u001b[0m\u001b[1;33m)\u001b[0m\u001b[1;33m\u001b[0m\u001b[1;33m\u001b[0m\u001b[0m\n\u001b[0;32m      3\u001b[0m \u001b[0md_min\u001b[0m \u001b[1;33m=\u001b[0m \u001b[0md\u001b[0m\u001b[1;33m.\u001b[0m\u001b[0mmin\u001b[0m\u001b[1;33m(\u001b[0m\u001b[1;33m)\u001b[0m\u001b[1;33m\u001b[0m\u001b[1;33m\u001b[0m\u001b[0m\n\u001b[0;32m      4\u001b[0m \u001b[0mprint\u001b[0m \u001b[1;33m(\u001b[0m\u001b[1;34m\"The minimun value of array d is:\"\u001b[0m\u001b[1;33m,\u001b[0m \u001b[0md_min\u001b[0m\u001b[1;33m)\u001b[0m\u001b[1;33m\u001b[0m\u001b[1;33m\u001b[0m\u001b[0m\n",
      "\u001b[1;31mAttributeError\u001b[0m: 'NoneType' object has no attribute 'max'"
     ]
    }
   ],
   "source": [
    "d_max = d.max()\n",
    "print (\"The maximun value of array d is:\",d_max)\n",
    "d_min = d.min()\n",
    "print (\"The minimun value of array d is:\", d_min)"
   ]
  },
  {
   "cell_type": "markdown",
   "metadata": {},
   "source": [
    "#### 15. Now we want to label the values in *d*. First create an empty array *f* with the same shape (i.e. 2x3x5) as *d* using `np.empty`.\n"
   ]
  },
  {
   "cell_type": "code",
   "execution_count": null,
   "metadata": {},
   "outputs": [],
   "source": [
    "# your code here"
   ]
  },
  {
   "cell_type": "markdown",
   "metadata": {},
   "source": [
    "#### 16. Populate the values in *f*. \n",
    "\n",
    "For each value in *d*, if it's larger than *d_min* but smaller than *d_mean*, assign 25 to the corresponding value in *f*. If a value in *d* is larger than *d_mean* but smaller than *d_max*, assign 75 to the corresponding value in *f*. If a value equals to *d_mean*, assign 50 to the corresponding value in *f*. Assign 0 to the corresponding value(s) in *f* for *d_min* in *d*. Assign 100 to the corresponding value(s) in *f* for *d_max* in *d*. In the end, f should have only the following values: 0, 25, 50, 75, and 100.\n",
    "\n",
    "**Note**: you don't have to use Numpy in this question."
   ]
  },
  {
   "cell_type": "code",
   "execution_count": 1,
   "metadata": {},
   "outputs": [],
   "source": [
    "# your code here"
   ]
  },
  {
   "cell_type": "markdown",
   "metadata": {},
   "source": [
    "#### 17. Print *d* and *f*. Do you have your expected *f*?\n",
    "For instance, if your *d* is:\n",
    "```python\n",
    "[[[1.85836099, 1.67064465, 1.62576044, 1.40243961, 1.88454931],\n",
    "[1.75354326, 1.69403643, 1.36729252, 1.61415071, 1.12104981],\n",
    "[1.72201435, 1.1862918 , 1.87078449, 1.7726778 , 1.88180042]],\n",
    "[[1.44747908, 1.31673383, 1.02000951, 1.52218947, 1.97066381],\n",
    "[1.79129243, 1.74983003, 1.96028037, 1.85166831, 1.65450881],\n",
    "[1.18068344, 1.9587381 , 1.00656599, 1.93402165, 1.73514584]]]\n",
    "```\n",
    "Your *f* should be:\n",
    "```python\n",
    "[[[ 75.,  75.,  75.,  25.,  75.],\n",
    "[ 75.,  75.,  25.,  25.,  25.],\n",
    "[ 75.,  25.,  75.,  75.,  75.]],\n",
    "[[ 25.,  25.,  25.,  25., 100.],\n",
    "[ 75.,  75.,  75.,  75.,  75.],\n",
    "[ 25.,  75.,   0.,  75.,  75.]]]\n",
    "```"
   ]
  },
  {
   "cell_type": "code",
   "execution_count": null,
   "metadata": {},
   "outputs": [],
   "source": [
    "# your code here"
   ]
  },
  {
   "cell_type": "markdown",
   "metadata": {},
   "source": [
    "#### 18. Bonus question: instead of using numbers (i.e. 0, 25, 50, 75, and 100), use string values  (\"A\", \"B\", \"C\", \"D\", and \"E\") to label the array elements. For the example above, the expected result is:\n",
    "\n",
    "```python\n",
    "[[[ 'D',  'D',  'D',  'B',  'D'],\n",
    "[ 'D',  'D',  'B',  'B',  'B'],\n",
    "[ 'D',  'B',  'D',  'D',  'D']],\n",
    "[[ 'B',  'B',  'B',  'B',  'E'],\n",
    "[ 'D',  'D',  'D',  'D',  'D'],\n",
    "[ 'B',  'D',   'A',  'D', 'D']]]\n",
    "```\n",
    "**Note**: you don't have to use Numpy in this question."
   ]
  },
  {
   "cell_type": "code",
   "execution_count": null,
   "metadata": {},
   "outputs": [],
   "source": []
  }
 ],
 "metadata": {
  "kernelspec": {
   "display_name": "Python 3 (ipykernel)",
   "language": "python",
   "name": "python3"
  },
  "language_info": {
   "codemirror_mode": {
    "name": "ipython",
    "version": 3
   },
   "file_extension": ".py",
   "mimetype": "text/x-python",
   "name": "python",
   "nbconvert_exporter": "python",
   "pygments_lexer": "ipython3",
   "version": "3.7.11"
  }
 },
 "nbformat": 4,
 "nbformat_minor": 2
}
