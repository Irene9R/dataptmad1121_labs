{
 "cells": [
  {
   "cell_type": "markdown",
   "metadata": {},
   "source": [
    "## Challenge 2: Sets\n",
    "\n",
    "There are a lot to learn about Python Sets and the information presented in the lesson is limited due to its length. To learn Python Sets in depth you are strongly encouraged to review the W3Schools tutorial on [Python Sets Examples and Methods](https://www.w3schools.com/python/python_sets.asp) before you work on this lab. Some difficult questions in this lab have their solutions in the W3Schools tutorial.\n",
    "\n",
    "#### First, import the Python `random` library."
   ]
  },
  {
   "cell_type": "code",
   "execution_count": 1,
   "metadata": {},
   "outputs": [],
   "source": [
    "import random"
   ]
  },
  {
   "cell_type": "markdown",
   "metadata": {},
   "source": [
    "#### In the cell below, create a list named `sample_list_1` with 80 random values. \n",
    "\n",
    "Requirements:\n",
    "\n",
    "* Each value is an integer falling between 0 and 100.\n",
    "* Each value in the list is unique.\n",
    "\n",
    "Print `sample_list_1` to review its values\n",
    "\n",
    "*Hint: use `random.sample` ([reference](https://docs.python.org/3/library/random.html#random.sample)).*"
   ]
  },
  {
   "cell_type": "code",
   "execution_count": 2,
   "metadata": {},
   "outputs": [
    {
     "name": "stdout",
     "output_type": "stream",
     "text": [
      "[96, 69, 76, 35, 27, 6, 93, 22, 67, 3, 10, 42, 99, 57, 49, 1, 55, 71, 73, 0, 53, 87, 68, 56, 45, 52, 82, 84, 81, 21, 36, 92, 11, 79, 72, 7, 64, 85, 38, 18, 15, 30, 2, 91, 63, 94, 40, 25, 19, 9, 8, 16, 80, 60, 12, 54, 39, 13, 97, 66, 51, 62, 75, 31, 89, 61, 74, 83, 23, 4, 86, 65, 88, 24, 34, 20, 59, 43, 44, 47]\n"
     ]
    }
   ],
   "source": [
    "sample_list_1 = random.sample(range(100),k=80)\n",
    "print (sample_list_1)"
   ]
  },
  {
   "cell_type": "markdown",
   "metadata": {},
   "source": [
    "#### Convert `sample_list_1` to a set called `set1`. Print the length of the set. Is its length still 80?"
   ]
  },
  {
   "cell_type": "code",
   "execution_count": 3,
   "metadata": {},
   "outputs": [
    {
     "name": "stdout",
     "output_type": "stream",
     "text": [
      "<class 'set'>\n",
      "80\n"
     ]
    }
   ],
   "source": [
    "# Your code here\n",
    "set1 = set(sample_list_1)\n",
    "print (type(set1))\n",
    "print (len(set1))"
   ]
  },
  {
   "cell_type": "markdown",
   "metadata": {},
   "source": [
    "#### Create another list named `sample_list_2` with 80 random values.\n",
    "\n",
    "Requirements:\n",
    "\n",
    "* Each value is an integer falling between 0 and 100.\n",
    "* The values in the list don't have to be unique.\n",
    "\n",
    "*Hint: Use a FOR loop.*"
   ]
  },
  {
   "cell_type": "code",
   "execution_count": 4,
   "metadata": {},
   "outputs": [
    {
     "name": "stdout",
     "output_type": "stream",
     "text": [
      "[19, 32, 7, 56, 82, 85, 29, 48, 77, 71, 44, 2, 7, 99, 83, 66, 43, 81, 72, 48, 95, 56, 20, 43, 91, 29, 42, 1, 75, 23, 24, 14, 76, 74, 40, 98, 18, 87, 83, 38, 62, 67, 99, 30, 58, 88, 84, 4, 44, 82, 18, 41, 54, 43, 90, 25, 69, 30, 98, 2, 26, 19, 34, 17, 8, 10, 90, 74, 53, 89, 35, 72, 54, 67, 38, 91, 11, 11, 93, 54]\n"
     ]
    }
   ],
   "source": [
    "sample_list_2 = []\n",
    "for i in range(0,80):\n",
    "    n = random.randint(1,100)\n",
    "    sample_list_2.append(n)\n",
    "print(sample_list_2)\n"
   ]
  },
  {
   "cell_type": "markdown",
   "metadata": {},
   "source": [
    "#### Convert `sample_list_2` to a set called `set2`. Print the length of the set. Is its length still 80?"
   ]
  },
  {
   "cell_type": "code",
   "execution_count": 5,
   "metadata": {},
   "outputs": [
    {
     "name": "stdout",
     "output_type": "stream",
     "text": [
      "<class 'set'>\n",
      "56\n"
     ]
    }
   ],
   "source": [
    "set2 = set(sample_list_2)\n",
    "print (type(set2))\n",
    "print (len(set2))"
   ]
  },
  {
   "cell_type": "markdown",
   "metadata": {},
   "source": [
    "#####  The lenght of set2  is not 80 anymore because sets ony collect unique elements. \"sample_list_2\" had elements that repited themselves."
   ]
  },
  {
   "cell_type": "markdown",
   "metadata": {},
   "source": [
    "#### Identify the elements present in `set1` but not in `set2`. Assign the elements to a new set named `set3`."
   ]
  },
  {
   "cell_type": "code",
   "execution_count": 6,
   "metadata": {},
   "outputs": [
    {
     "name": "stdout",
     "output_type": "stream",
     "text": [
      "{0, 3, 6, 9, 12, 13, 15, 16, 21, 22, 27, 31, 36, 39, 45, 47, 49, 51, 52, 55, 57, 59, 60, 61, 63, 64, 65, 68, 73, 79, 80, 86, 92, 94, 96, 97}\n"
     ]
    }
   ],
   "source": [
    "sample_list_3 = []\n",
    "for i in set1:\n",
    "    if i in set2:\n",
    "        pass\n",
    "    else:\n",
    "        sample_list_3.append(i)\n",
    "set3 = set(sample_list_3)\n",
    "print (set3)"
   ]
  },
  {
   "cell_type": "markdown",
   "metadata": {},
   "source": [
    "#### Identify the elements present in `set2` but not in `set1`. Assign the elements to a new set named `set4`."
   ]
  },
  {
   "cell_type": "code",
   "execution_count": 7,
   "metadata": {},
   "outputs": [
    {
     "name": "stdout",
     "output_type": "stream",
     "text": [
      "{32, 98, 58, 90, 41, 77, 14, 48, 17, 26, 29, 95}\n"
     ]
    }
   ],
   "source": [
    "sample_list_4 = []\n",
    "for i in set2:\n",
    "    if i in set1:\n",
    "        pass\n",
    "    else:\n",
    "        sample_list_4.append(i)\n",
    "set4 = set(sample_list_4)\n",
    "print (set4)"
   ]
  },
  {
   "cell_type": "markdown",
   "metadata": {},
   "source": [
    "#### Now Identify the elements shared between `set1` and `set2`. Assign the elements to a new set named `set5`."
   ]
  },
  {
   "cell_type": "code",
   "execution_count": 8,
   "metadata": {},
   "outputs": [
    {
     "name": "stdout",
     "output_type": "stream",
     "text": [
      "{1, 2, 4, 7, 8, 10, 11, 18, 19, 20, 23, 24, 25, 30, 34, 35, 38, 40, 42, 43, 44, 53, 54, 56, 62, 66, 67, 69, 71, 72, 74, 75, 76, 81, 82, 83, 84, 85, 87, 88, 89, 91, 93, 99}\n"
     ]
    }
   ],
   "source": [
    "sample_list_5 = []\n",
    "for i in set1:\n",
    "    if i in set2:\n",
    "        sample_list_5.append(i)\n",
    "    else:\n",
    "        pass\n",
    "set5 = set(sample_list_5)\n",
    "print (set5)"
   ]
  },
  {
   "cell_type": "markdown",
   "metadata": {},
   "source": [
    "#### What is the relationship among the following values:\n",
    "\n",
    "* len(set1)\n",
    "* len(set2)\n",
    "* len(set3)\n",
    "* len(set4)\n",
    "* len(set5)\n",
    "\n",
    "Use a math formular to represent that relationship. Test your formular with Python code."
   ]
  },
  {
   "cell_type": "code",
   "execution_count": 9,
   "metadata": {},
   "outputs": [
    {
     "name": "stdout",
     "output_type": "stream",
     "text": [
      "lenght of set1 = 80\n",
      "lenght of set2 = 56\n",
      "lenght of set3 = 36\n",
      "lenght of set4 = 12\n",
      "lenght of set5 = 44\n",
      "\n",
      "1. Is the total number of elements in set5 and set4 combined equal to the total number of elements in set2?\n",
      "R/. True\n",
      "\n",
      "2. Is the sum of the elements in set5 and set4 combined, equal to the sum of elements in set2?\n",
      "R/. True\n",
      "\n",
      "3. Is the total number of elements in set5 and set3 combined, equal to the total number of elements in set1?\n",
      "R/. True\n",
      "\n",
      "4. Is the sum of the elements in set5 and set3 combined, equal to the sum of elements in set1?\n",
      "R/. True\n",
      "\n",
      "5. Is set3 a subset of set1?\n",
      "R/. True\n",
      "\n",
      "6. Is set4 a subset of set2?\n",
      "R/. True\n",
      "\n",
      "7. Is set5 a subset of set1?\n",
      "R/. True\n",
      "\n",
      "8. Is set5 a subset of set2?\n",
      "R/. True\n",
      "\n"
     ]
    }
   ],
   "source": [
    "# Your code here\n",
    "print (\"lenght of set1 =\",len(set1))\n",
    "print (\"lenght of set2 =\",len(set2))\n",
    "print (\"lenght of set3 =\",len(set3))\n",
    "print (\"lenght of set4 =\",len(set4))\n",
    "print (\"lenght of set5 =\",len(set5), end = \"\\n\\n\")\n",
    "print (\"1. Is the total number of elements in set5 and set4 combined equal to the total number of elements in set2?\")\n",
    "print (\"R/.\",len(set5)+len(set4) == len(set2), end =\"\\n\\n\")\n",
    "print (\"2. Is the sum of the elements in set5 and set4 combined, equal to the sum of elements in set2?\")\n",
    "print (\"R/.\",sum(set5)+sum(set4) == sum(set2), end = \"\\n\\n\")\n",
    "print (\"3. Is the total number of elements in set5 and set3 combined, equal to the total number of elements in set1?\")\n",
    "print (\"R/.\",len(set5)+len(set3) == len(set1), end = \"\\n\\n\")\n",
    "print (\"4. Is the sum of the elements in set5 and set3 combined, equal to the sum of elements in set1?\")\n",
    "print (\"R/.\",sum(set5)+sum(set3) == sum(set1), end = \"\\n\\n\")\n",
    "print (\"5. Is set3 a subset of set1?\")\n",
    "print (\"R/.\",set3.issubset(set1),end = \"\\n\\n\")\n",
    "print (\"6. Is set4 a subset of set2?\")\n",
    "print (\"R/.\",set4.issubset(set2),end = \"\\n\\n\")\n",
    "print (\"7. Is set5 a subset of set1?\")\n",
    "print (\"R/.\",set5.issubset(set1),end = \"\\n\\n\")\n",
    "print (\"8. Is set5 a subset of set2?\")\n",
    "print (\"R/.\",set5.issubset(set2),end = \"\\n\\n\")"
   ]
  },
  {
   "cell_type": "markdown",
   "metadata": {},
   "source": [
    "#### Create an empty set called `set6`."
   ]
  },
  {
   "cell_type": "code",
   "execution_count": 10,
   "metadata": {},
   "outputs": [
    {
     "name": "stdout",
     "output_type": "stream",
     "text": [
      "<class 'set'>\n"
     ]
    }
   ],
   "source": [
    "set6 = set()\n",
    "print (type(set6))"
   ]
  },
  {
   "cell_type": "markdown",
   "metadata": {},
   "source": [
    "#### Add `set3` and `set5` to `set6` using the Python Set `update` method."
   ]
  },
  {
   "cell_type": "code",
   "execution_count": 11,
   "metadata": {},
   "outputs": [
    {
     "name": "stdout",
     "output_type": "stream",
     "text": [
      "{0, 1, 2, 3, 4, 6, 7, 8, 9, 10, 11, 12, 13, 15, 16, 18, 19, 20, 21, 22, 23, 24, 25, 27, 30, 31, 34, 35, 36, 38, 39, 40, 42, 43, 44, 45, 47, 49, 51, 52, 53, 54, 55, 56, 57, 59, 60, 61, 62, 63, 64, 65, 66, 67, 68, 69, 71, 72, 73, 74, 75, 76, 79, 80, 81, 82, 83, 84, 85, 86, 87, 88, 89, 91, 92, 93, 94, 96, 97, 99}\n",
      "80\n"
     ]
    }
   ],
   "source": [
    "set6.update(set3)\n",
    "set6.update(set5)\n",
    "print (set6)\n",
    "print (len(set6))"
   ]
  },
  {
   "cell_type": "markdown",
   "metadata": {},
   "source": [
    "#### Check if `set1` and `set6` are equal."
   ]
  },
  {
   "cell_type": "code",
   "execution_count": 12,
   "metadata": {},
   "outputs": [
    {
     "name": "stdout",
     "output_type": "stream",
     "text": [
      "False\n",
      "True\n"
     ]
    }
   ],
   "source": [
    "#set1 and set6 have the same lenght and same elements BUT they are not exactly the same as sets are collections\n",
    "#of elements unordered, unchangeable (can be added or removed), and unindexed.\n",
    "\n",
    "print (set1 is set6)\n",
    "print (len(set1) == len(set6))"
   ]
  },
  {
   "cell_type": "markdown",
   "metadata": {},
   "source": [
    "#### Check if `set1` contains `set2` using the Python Set `issubset` method. Then check if `set1` contains `set3`.*"
   ]
  },
  {
   "cell_type": "code",
   "execution_count": 13,
   "metadata": {},
   "outputs": [
    {
     "name": "stdout",
     "output_type": "stream",
     "text": [
      "False\n",
      "True\n"
     ]
    }
   ],
   "source": [
    "print (set2.issubset(set1))\n",
    "print (set3.issubset(set1))"
   ]
  },
  {
   "cell_type": "markdown",
   "metadata": {},
   "source": [
    "#### Using the Python Set `union` method, aggregate `set3`, `set4`, and `set5`. Then aggregate `set1` and `set2`. \n",
    "\n",
    "#### Check if the aggregated values are equal."
   ]
  },
  {
   "cell_type": "code",
   "execution_count": 14,
   "metadata": {},
   "outputs": [
    {
     "name": "stdout",
     "output_type": "stream",
     "text": [
      "{0, 1, 2, 3, 4, 6, 7, 8, 9, 10, 11, 12, 13, 14, 15, 16, 17, 18, 19, 20, 21, 22, 23, 24, 25, 26, 27, 29, 30, 31, 32, 34, 35, 36, 38, 39, 40, 41, 42, 43, 44, 45, 47, 48, 49, 51, 52, 53, 54, 55, 56, 57, 58, 59, 60, 61, 62, 63, 64, 65, 66, 67, 68, 69, 71, 72, 73, 74, 75, 76, 77, 79, 80, 81, 82, 83, 84, 85, 86, 87, 88, 89, 90, 91, 92, 93, 94, 95, 96, 97, 98, 99}\n",
      "{0, 1, 2, 3, 4, 6, 7, 8, 9, 10, 11, 12, 13, 14, 15, 16, 17, 18, 19, 20, 21, 22, 23, 24, 25, 26, 27, 29, 30, 31, 32, 34, 35, 36, 38, 39, 40, 41, 42, 43, 44, 45, 47, 48, 49, 51, 52, 53, 54, 55, 56, 57, 58, 59, 60, 61, 62, 63, 64, 65, 66, 67, 68, 69, 71, 72, 73, 74, 75, 76, 77, 79, 80, 81, 82, 83, 84, 85, 86, 87, 88, 89, 90, 91, 92, 93, 94, 95, 96, 97, 98, 99}\n",
      "Both aggregated values are equal: True\n"
     ]
    }
   ],
   "source": [
    "aggregate345 = set3.union(set4,set5)\n",
    "aggregate12 = set1.union(set2)\n",
    "print(aggregate345)\n",
    "print(aggregate12)\n",
    "print (\"Both aggregated values are equal:\", aggregate12 == aggregate345)"
   ]
  },
  {
   "cell_type": "markdown",
   "metadata": {},
   "source": [
    "#### Using the `pop` method, remove the first element from `set1`."
   ]
  },
  {
   "cell_type": "code",
   "execution_count": 15,
   "metadata": {},
   "outputs": [
    {
     "data": {
      "text/plain": [
       "0"
      ]
     },
     "execution_count": 15,
     "metadata": {},
     "output_type": "execute_result"
    }
   ],
   "source": [
    "set1.pop()"
   ]
  },
  {
   "cell_type": "code",
   "execution_count": 16,
   "metadata": {},
   "outputs": [
    {
     "name": "stdout",
     "output_type": "stream",
     "text": [
      "{1, 2, 3, 4, 6, 7, 8, 9, 10, 11, 12, 13, 15, 16, 18, 19, 20, 21, 22, 23, 24, 25, 27, 30, 31, 34, 35, 36, 38, 39, 40, 42, 43, 44, 45, 47, 49, 51, 52, 53, 54, 55, 56, 57, 59, 60, 61, 62, 63, 64, 65, 66, 67, 68, 69, 71, 72, 73, 74, 75, 76, 79, 80, 81, 82, 83, 84, 85, 86, 87, 88, 89, 91, 92, 93, 94, 96, 97, 99}\n"
     ]
    }
   ],
   "source": [
    "print (set1)"
   ]
  },
  {
   "cell_type": "markdown",
   "metadata": {},
   "source": [
    "#### Remove every element in the following list from `set1` if they are present in the set. Print the remaining elements.\n",
    "\n",
    "```\n",
    "list_to_remove = [1, 9, 11, 19, 21, 29, 31, 39, 41, 49, 51, 59, 61, 69, 71, 79, 81, 89, 91, 99]\n",
    "```"
   ]
  },
  {
   "cell_type": "code",
   "execution_count": 29,
   "metadata": {},
   "outputs": [
    {
     "name": "stdout",
     "output_type": "stream",
     "text": [
      "{2, 3, 4, 6, 7, 8, 10, 12, 13, 15, 16, 18, 20, 22, 23, 24, 25, 27, 30, 34, 35, 36, 38, 40, 42, 43, 44, 45, 47, 52, 53, 54, 55, 56, 57, 60, 62, 63, 64, 65, 66, 67, 68, 72, 73, 74, 75, 76, 80, 82, 83, 84, 85, 86, 87, 88, 92, 93, 94, 96, 97}\n"
     ]
    }
   ],
   "source": [
    "list_to_remove = [1, 9, 11, 19, 21, 29, 31, 39, 41, 49, 51, 59, 61, 69, 71, 79, 81, 89, 91, 99]\n",
    "set1_removed = []\n",
    "for i in list(set1):\n",
    "    if i in list_to_remove:\n",
    "        pass\n",
    "    else:\n",
    "        set1_removed.append(i)\n",
    "set1_removed = set(set1_removed)\n",
    "print (set1_removed)"
   ]
  },
  {
   "cell_type": "code",
   "execution_count": null,
   "metadata": {},
   "outputs": [],
   "source": []
  }
 ],
 "metadata": {
  "kernelspec": {
   "display_name": "Python 3 (ipykernel)",
   "language": "python",
   "name": "python3"
  },
  "language_info": {
   "codemirror_mode": {
    "name": "ipython",
    "version": 3
   },
   "file_extension": ".py",
   "mimetype": "text/x-python",
   "name": "python",
   "nbconvert_exporter": "python",
   "pygments_lexer": "ipython3",
   "version": "3.7.11"
  }
 },
 "nbformat": 4,
 "nbformat_minor": 2
}
